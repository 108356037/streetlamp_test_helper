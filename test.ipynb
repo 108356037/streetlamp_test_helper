{
 "metadata": {
  "language_info": {
   "codemirror_mode": {
    "name": "ipython",
    "version": 3
   },
   "file_extension": ".py",
   "mimetype": "text/x-python",
   "name": "python",
   "nbconvert_exporter": "python",
   "pygments_lexer": "ipython3",
   "version": "3.6.9-final"
  },
  "orig_nbformat": 2,
  "kernelspec": {
   "name": "python36964bitenvvenv4fb9d571084748daafe3802036110d2b",
   "display_name": "Python 3.6.9 64-bit ('env': venv)",
   "language": "python"
  }
 },
 "nbformat": 4,
 "nbformat_minor": 2,
 "cells": [
  {
   "cell_type": "code",
   "execution_count": 15,
   "metadata": {},
   "outputs": [
    {
     "output_type": "stream",
     "name": "stdout",
     "text": [
      "connected OK Returned code= 0\n <paho.mqtt.client.Client object at 0x7f5dfc488f28> published None, result: 1\n"
     ]
    },
    {
     "output_type": "execute_result",
     "data": {
      "text/plain": [
       "0"
      ]
     },
     "metadata": {},
     "execution_count": 15
    }
   ],
   "source": [
    "from paho.mqtt import client as mqtt_client\n",
    "import json\n",
    "import time\n",
    "\n",
    "# global connect_flag\n",
    "\n",
    "# connect_flag = False\n",
    "\n",
    "data = {\n",
    "    \"type\": \"dev get report\"\n",
    "}\n",
    "\n",
    "def on_connect(client, userdata, flags, rc):\n",
    "    if rc == 0:\n",
    "        print(\"connected OK Returned code=\",rc)\n",
    "    else:\n",
    "        print(\"Bad connection Returned code=\",rc)\n",
    "    \n",
    "\n",
    "def on_publish(client,userdata,result):\n",
    "    print(f\" {client} published {userdata}, result: {result}\")\n",
    "\n",
    "def on_disconnect(client, userdata, rc):\n",
    "    if rc == 0:\n",
    "        print(\"Gracefully disconnected.\")\n",
    "    else:\n",
    "        print(\"Unexpected disconnection.\")\n",
    "    \n",
    "client = mqtt_client.Client(client_id=\"debug:debug-client:0415\")\n",
    "client.username_pw_set(\"debug\",\"debug\")\n",
    "client.on_connect = on_connect\n",
    "client.on_publish = on_publish\n",
    "\n",
    "\n",
    "client.connect(\"broker.insynerger.streetlightbroker.com\", 4883, 60)\n",
    "client.loop_start()\n",
    "\n",
    "client.publish(\"$thing/OR000000insynerger05/$cmd/conf/info\",json.dumps(data),qos=1).wait_for_publish()\n",
    "\n",
    "\n",
    "#time.sleep(2.0)\n",
    "client.loop_stop()\n",
    "client.disconnect()"
   ]
  },
  {
   "cell_type": "code",
   "execution_count": 23,
   "metadata": {},
   "outputs": [
    {
     "output_type": "stream",
     "name": "stdout",
     "text": [
      "connected OK Returned code= 0\n",
      "connected OK Returned code= 0\n",
      "{'dimming': '10', 'dimmingMP': '50', 'reboot': '', 'reconnect': '', 'ota trigger': '', 'dev set rpt_time': '3600', 'dev set pwr_delay': '', 'dev set pkt_delay': None, 'dev get all': '', 'dev get report': '', 'dev get info': '', 'dev get schedule': '', 'dev get lum_dimming': '', 'dev lock_band': '', 'dev unlock_band': ''}\n",
      "cmd: dimming, val: 10\n",
      "cmd: dimmingMP, val: 50\n",
      "cmd: reboot, val: \n",
      "cmd: reconnect, val: \n",
      "cmd: ota trigger, val: \n",
      "cmd: dev set rpt_time, val: 3600\n",
      "cmd: dev set pwr_delay, val: \n",
      "cmd: dev set pkt_delay, val: None\n",
      "cmd: dev get all, val: \n",
      "cmd: dev get report, val: \n",
      "cmd: dev get info, val: \n",
      "cmd: dev get schedule, val: \n",
      "cmd: dev get lum_dimming, val: \n",
      "cmd: dev lock_band, val: \n",
      "cmd: dev unlock_band, val: \n",
      "connected OK Returned code= 0\n",
      "connected OK Returned code= 0\n",
      "connected OK Returned code= 0\n",
      "connected OK Returned code= 0\n",
      "connected OK Returned code= 0\n",
      "connected OK Returned code= 0\n",
      "connected OK Returned code= 0\n",
      "connected OK Returned code= 0\n",
      "connected OK Returned code= 0\n",
      "connected OK Returned code= 0\n",
      "connected OK Returned code= 0\n",
      "connected OK Returned code= 0\n",
      "connected OK Returned code= 0\n",
      "connected OK Returned code= 0\n",
      "connected OK Returned code= 0\n",
      "connected OK Returned code= 0\n",
      "connected OK Returned code= 0\n",
      "connected OK Returned code= 0\n",
      "connected OK Returned code= 0\n",
      "connected OK Returned code= 0\n",
      "connected OK Returned code= 0\n",
      "connected OK Returned code= 0\n",
      "connected OK Returned code= 0\n",
      "connected OK Returned code= 0\n"
     ]
    }
   ],
   "source": [
    "import yaml\n",
    "\n",
    "with open('cmd.yaml') as file:\n",
    "    documents = yaml.full_load(file)\n",
    "\n",
    "    print(documents['info'])\n",
    "    for cmd, val in documents['info'].items():\n",
    "        print(f\"cmd: {cmd}, val: {val}\")"
   ]
  },
  {
   "cell_type": "code",
   "execution_count": 25,
   "metadata": {},
   "outputs": [
    {
     "output_type": "execute_result",
     "data": {
      "text/plain": [
       "4"
      ]
     },
     "metadata": {},
     "execution_count": 25
    }
   ],
   "source": [
    "client.loop_stop()\n",
    "client.disconnect()"
   ]
  },
  {
   "cell_type": "code",
   "execution_count": 14,
   "metadata": {},
   "outputs": [
    {
     "output_type": "execute_result",
     "data": {
      "text/plain": [
       "'844cc1c2'"
      ]
     },
     "metadata": {},
     "execution_count": 14
    }
   ],
   "source": [
    "import os\n",
    "import binascii\n",
    "binascii.hexlify(os.urandom(4)).decode()"
   ]
  },
  {
   "cell_type": "code",
   "execution_count": 45,
   "metadata": {},
   "outputs": [
    {
     "output_type": "execute_result",
     "data": {
      "text/plain": [
       "  $cmd/conf/info $data/conf/# $data/report/#\n",
       "0             12           12             13"
      ],
      "text/html": "<div>\n<style scoped>\n    .dataframe tbody tr th:only-of-type {\n        vertical-align: middle;\n    }\n\n    .dataframe tbody tr th {\n        vertical-align: top;\n    }\n\n    .dataframe thead th {\n        text-align: right;\n    }\n</style>\n<table border=\"1\" class=\"dataframe\">\n  <thead>\n    <tr style=\"text-align: right;\">\n      <th></th>\n      <th>$cmd/conf/info</th>\n      <th>$data/conf/#</th>\n      <th>$data/report/#</th>\n    </tr>\n  </thead>\n  <tbody>\n    <tr>\n      <th>0</th>\n      <td>12</td>\n      <td>12</td>\n      <td>13</td>\n    </tr>\n  </tbody>\n</table>\n</div>"
     },
     "metadata": {},
     "execution_count": 45
    }
   ],
   "source": [
    "import pandas as pd\n",
    "\n",
    "df = pd.DataFrame(columns=['$cmd/conf/info', '$data/conf/#', '$data/report/#'])\n",
    "\n",
    "row = {\"$cmd/conf/info\":12,\"$data/conf/#\":12, \"$data/report/#\":13}7\n",
    "df = df.append(row, ignore_index = True)\n",
    "df"
   ]
  },
  {
   "cell_type": "code",
   "execution_count": 41,
   "metadata": {},
   "outputs": [
    {
     "output_type": "execute_result",
     "data": {
      "text/plain": [
       "dict"
      ]
     },
     "metadata": {},
     "execution_count": 41
    }
   ],
   "source": [
    "type(row)"
   ]
  },
  {
   "cell_type": "code",
   "execution_count": null,
   "metadata": {},
   "outputs": [],
   "source": []
  }
 ]
}